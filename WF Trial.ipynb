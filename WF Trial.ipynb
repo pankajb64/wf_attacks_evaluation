{
 "cells": [
  {
   "cell_type": "code",
   "execution_count": 1,
   "metadata": {},
   "outputs": [
    {
     "name": "stderr",
     "output_type": "stream",
     "text": [
      "Using Theano backend.\n"
     ]
    }
   ],
   "source": [
    "import theano\n",
    "from keras.models import Sequential\n",
    "from keras.layers.core import Flatten, Dense, Dropout\n",
    "from keras.layers.convolutional import Conv1D, MaxPooling1D, ZeroPadding1D\n",
    "from keras.optimizers import SGD\n",
    "import numpy as np\n",
    "import os"
   ]
  },
  {
   "cell_type": "code",
   "execution_count": 23,
   "metadata": {
    "collapsed": true
   },
   "outputs": [],
   "source": [
    "feat_0_path='data/mon_exp/feat/0'\n",
    "feat_1_path='data/mon_exp/feat/1'\n",
    "max_feat_count=5000\n",
    "\n",
    "feats_0_list = []\n",
    "for fil in os.listdir(feat_0_path):\n",
    "    feats = []\n",
    "    with open(os.path.join(feat_0_path, fil)) as f:\n",
    "        feats = f.readlines()\n",
    "        feats = [float(line) for line in feats]\n",
    "    feats = np.array(feats)\n",
    "    feats1 = np.zeros(max_feat_count)\n",
    "    length = min(len(feats), max_feat_count)\n",
    "    feats1[:length] = feats[:length]\n",
    "    #print len(feats)\n",
    "    feats_0_list.append(feats1)\n",
    "\n",
    "feats_1_list = []\n",
    "for fil in os.listdir(feat_1_path):\n",
    "    feats = []\n",
    "    with open(os.path.join(feat_1_path, fil)) as f:\n",
    "        feats = f.readlines()\n",
    "        feats = [float(line) for line in feats]\n",
    "    feats = np.array(feats)\n",
    "    feats1 = np.zeros(max_feat_count)\n",
    "    length = min(len(feats), max_feat_count)\n",
    "    feats1[:length] = feats[:length]\n",
    "    #print len(feats1)\n",
    "    feats_1_list.append(feats1)\n",
    "  "
   ]
  },
  {
   "cell_type": "code",
   "execution_count": 24,
   "metadata": {},
   "outputs": [
    {
     "name": "stdout",
     "output_type": "stream",
     "text": [
      "(2815, 5000)\n",
      "(320, 5000)\n",
      "(2715, 5000)\n",
      "(220, 5000)\n",
      "(100, 5000)\n",
      "(100, 5000)\n"
     ]
    }
   ],
   "source": [
    "num_test=100\n",
    "f0 = np.array(feats_0_list)\n",
    "f1 = np.array(feats_1_list)\n",
    "print f0.shape\n",
    "print f1.shape\n",
    "f0_tr = f0[:-num_test, :]\n",
    "f1_tr = f1[:-num_test, :]\n",
    "print f0_tr.shape\n",
    "print f1_tr.shape\n",
    "f0_ts = f0[-num_test:, :]\n",
    "f1_ts = f1[-num_test:, :]\n",
    "print f0_ts.shape\n",
    "print f1_ts.shape\n"
   ]
  },
  {
   "cell_type": "code",
   "execution_count": 25,
   "metadata": {},
   "outputs": [
    {
     "name": "stdout",
     "output_type": "stream",
     "text": [
      "(2715, 2)\n",
      "(2715, 5002)\n"
     ]
    }
   ],
   "source": [
    "lab_0_tr = np.zeros((f0_tr.shape[0],2))\n",
    "lab_1_tr = np.zeros((f1_tr.shape[0],2))\n",
    "lab_0_ts = np.zeros((f0_ts.shape[0],2))\n",
    "lab_1_ts = np.zeros((f1_ts.shape[0],2))\n",
    "\n",
    "lab_0_tr[:,0] = 1\n",
    "lab_1_tr[:,1] = 1\n",
    "lab_0_ts[:,0] = 1\n",
    "lab_1_ts[:,1] = 1\n",
    "\n",
    "print lab_0_tr.shape\n",
    "x_0_tr = np.append(f0_tr,lab_0_tr, axis=1)\n",
    "x_1_tr = np.append(f1_tr, lab_1_tr, axis=1)\n",
    "print x_0_tr.shape\n",
    "x_0_ts = np.append(f0_ts, lab_0_ts, axis=1)\n",
    "x_1_ts = np.append(f1_ts, lab_1_ts, axis=1)"
   ]
  },
  {
   "cell_type": "code",
   "execution_count": 26,
   "metadata": {},
   "outputs": [
    {
     "name": "stdout",
     "output_type": "stream",
     "text": [
      "(2935, 5002)\n"
     ]
    }
   ],
   "source": [
    "x_tr = np.vstack([x_0_tr, x_1_tr])\n",
    "print x_tr.shape\n",
    "x_ts = np.vstack([x_0_ts, x_1_ts])\n",
    "np.random.shuffle(x_tr)\n",
    "np.random.shuffle(x_ts)"
   ]
  },
  {
   "cell_type": "code",
   "execution_count": 36,
   "metadata": {},
   "outputs": [
    {
     "name": "stdout",
     "output_type": "stream",
     "text": [
      "(2935, 5000)\n",
      "(2935, 2)\n",
      "(200, 5000)\n",
      "(200, 2)\n"
     ]
    }
   ],
   "source": [
    "X_tr = x_tr[:, 0:max_feat_count]\n",
    "y_tr = x_tr[:, max_feat_count:]\n",
    "X_ts = x_ts[:, 0:max_feat_count]\n",
    "y_ts = x_ts[:, max_feat_count:]\n",
    "print X_tr.shape\n",
    "print y_tr.shape\n",
    "print X_ts.shape\n",
    "print y_ts.shape"
   ]
  },
  {
   "cell_type": "code",
   "execution_count": 28,
   "metadata": {
    "collapsed": true
   },
   "outputs": [],
   "source": [
    "def VGG_16(max_len, weights_path=None):\n",
    "    model = Sequential()\n",
    "    model.add(ZeroPadding1D((1,1),input_shape=(1, max_len)))\n",
    "    model.add(Conv1D(256, (3, ), activation='relu'))\n",
    "    model.add(ZeroPadding1D((1,1)))\n",
    "    model.add(Conv1D(256, (3, ), activation='relu'))\n",
    "    #model.add(MaxPooling2D((2,2), strides=(2,2)))\n",
    "    print model.output_shape\n",
    "    model.add(ZeroPadding1D((1,1)))\n",
    "    model.add(Conv1D(128, (3, ), activation='relu'))\n",
    "    model.add(ZeroPadding1D((1,1)))\n",
    "    model.add(Conv1D(128, (3, ), activation='relu'))\n",
    "    #print \"Before max pool %s\" %str(model.output_shape)\n",
    "    #model.add(MaxPooling1D(pool_size=1, strides=1))\n",
    "    #print model.output_shape\n",
    "    model.add(ZeroPadding1D((1,1)))\n",
    "    model.add(Conv1D(64, (3, ), activation='relu'))\n",
    "    model.add(ZeroPadding1D((1,1)))\n",
    "    model.add(Conv1D(64, (3, ), activation='relu'))\n",
    "    model.add(ZeroPadding1D((1,1)))\n",
    "    model.add(Conv1D(64, (3, ), activation='relu'))\n",
    "    #print model.output_shape\n",
    "    #model.add(MaxPooling1D(2, strides=2))\n",
    "    #print model.output_shape\n",
    "    model.add(ZeroPadding1D((1,1)))\n",
    "    model.add(Conv1D(32, (3, ), activation='relu'))\n",
    "    model.add(ZeroPadding1D((1,1)))\n",
    "    model.add(Conv1D(32, (3, ), activation='relu'))\n",
    "    model.add(ZeroPadding1D((1,1)))\n",
    "    model.add(Conv1D(32, (3, ), activation='relu'))\n",
    "    #model.add(MaxPooling1D(2, strides=2))\n",
    "    #print model.output_shape\n",
    "    '''\n",
    "    model.add(ZeroPadding2D((1,1)))\n",
    "    model.add(Convolution2D(512, 3, 3, activation='relu'))\n",
    "    model.add(ZeroPadding2D((1,1)))\n",
    "    model.add(Convolution2D(512, 3, 3, activation='relu'))\n",
    "    model.add(ZeroPadding2D((1,1)))\n",
    "    model.add(Convolution2D(512, 3, 3, activation='relu'))\n",
    "    model.add(MaxPooling2D((2,2), strides=(2,2)))\n",
    "    '''\n",
    "    model.add(Flatten())\n",
    "    model.add(Dense(32, activation='relu'))\n",
    "    model.add(Dropout(0.5))\n",
    "    model.add(Dense(32, activation='relu'))\n",
    "    model.add(Dropout(0.5))\n",
    "    model.add(Dense(2, activation='softmax'))\n",
    "    '''model.add(Dense(16, activation='relu'))\n",
    "    model.add(Dropout(0.5))\n",
    "    model.add(Dense(8, activation='relu'))\n",
    "    model.add(Dropout(0.5))\n",
    "    model.add(Dense(4, activation='relu'))\n",
    "    model.add(Dropout(0.5))\n",
    "    model.add(Dense(2, activation='relu'))\n",
    "    model.add(Dropout(0.5))'''\n",
    "    \n",
    "    \n",
    "    if weights_path:\n",
    "        model.load_weights(weights_path)\n",
    "\n",
    "    return model\n"
   ]
  },
  {
   "cell_type": "code",
   "execution_count": 29,
   "metadata": {},
   "outputs": [
    {
     "name": "stdout",
     "output_type": "stream",
     "text": [
      "0.10.0dev1.dev-d51233517debf3a1231a33058d65e8f969db923d\n",
      "th\n",
      "True\n",
      "<function ifelse at 0x7f0755fb4230>\n"
     ]
    }
   ],
   "source": [
    "print theano.__version__\n",
    "import keras.backend as K\n",
    "K.set_image_dim_ordering('th')\n",
    "print K.image_dim_ordering()\n",
    "input_shape=(1,max_feat_count)\n",
    "print all(input_shape[1:])\n",
    "from theano import ifelse\n",
    "print theano.ifelse.ifelse"
   ]
  },
  {
   "cell_type": "code",
   "execution_count": 37,
   "metadata": {
    "collapsed": true
   },
   "outputs": [],
   "source": [
    "model = Sequential()\n",
    "#model.add(Dense(2, activation='relu', input_dim=max_feat_count))\n",
    "#model.add(Dense(2, activation='softmax' ))\n",
    "model.add(Dense(2, activation='softmax',input_dim=max_feat_count ))"
   ]
  },
  {
   "cell_type": "code",
   "execution_count": 38,
   "metadata": {},
   "outputs": [],
   "source": [
    "#model = VGG_16(max_feat_count)\n",
    "model.compile(optimizer='rmsprop', loss='binary_crossentropy', metrics=['accuracy']  )\n"
   ]
  },
  {
   "cell_type": "code",
   "execution_count": 31,
   "metadata": {
    "collapsed": true
   },
   "outputs": [],
   "source": [
    "X_tr = X_tr.reshape(X_tr.shape[0], 1, X_tr.shape[1])\n",
    "X_ts = X_ts.reshape(X_ts.shape[0], 1, X_ts.shape[1])"
   ]
  },
  {
   "cell_type": "code",
   "execution_count": 32,
   "metadata": {},
   "outputs": [
    {
     "name": "stdout",
     "output_type": "stream",
     "text": [
      "(2935, 1, 5000)\n",
      "(2935, 2)\n",
      "_________________________________________________________________\n",
      "Layer (type)                 Output Shape              Param #   \n",
      "=================================================================\n",
      "zero_padding1d_11 (ZeroPaddi (None, 3, 5000)           0         \n",
      "_________________________________________________________________\n",
      "conv1d_11 (Conv1D)           (None, 1, 256)            3840256   \n",
      "_________________________________________________________________\n",
      "zero_padding1d_12 (ZeroPaddi (None, 3, 256)            0         \n",
      "_________________________________________________________________\n",
      "conv1d_12 (Conv1D)           (None, 1, 256)            196864    \n",
      "_________________________________________________________________\n",
      "zero_padding1d_13 (ZeroPaddi (None, 3, 256)            0         \n",
      "_________________________________________________________________\n",
      "conv1d_13 (Conv1D)           (None, 1, 128)            98432     \n",
      "_________________________________________________________________\n",
      "zero_padding1d_14 (ZeroPaddi (None, 3, 128)            0         \n",
      "_________________________________________________________________\n",
      "conv1d_14 (Conv1D)           (None, 1, 128)            49280     \n",
      "_________________________________________________________________\n",
      "zero_padding1d_15 (ZeroPaddi (None, 3, 128)            0         \n",
      "_________________________________________________________________\n",
      "conv1d_15 (Conv1D)           (None, 1, 64)             24640     \n",
      "_________________________________________________________________\n",
      "zero_padding1d_16 (ZeroPaddi (None, 3, 64)             0         \n",
      "_________________________________________________________________\n",
      "conv1d_16 (Conv1D)           (None, 1, 64)             12352     \n",
      "_________________________________________________________________\n",
      "zero_padding1d_17 (ZeroPaddi (None, 3, 64)             0         \n",
      "_________________________________________________________________\n",
      "conv1d_17 (Conv1D)           (None, 1, 64)             12352     \n",
      "_________________________________________________________________\n",
      "zero_padding1d_18 (ZeroPaddi (None, 3, 64)             0         \n",
      "_________________________________________________________________\n",
      "conv1d_18 (Conv1D)           (None, 1, 32)             6176      \n",
      "_________________________________________________________________\n",
      "zero_padding1d_19 (ZeroPaddi (None, 3, 32)             0         \n",
      "_________________________________________________________________\n",
      "conv1d_19 (Conv1D)           (None, 1, 32)             3104      \n",
      "_________________________________________________________________\n",
      "zero_padding1d_20 (ZeroPaddi (None, 3, 32)             0         \n",
      "_________________________________________________________________\n",
      "conv1d_20 (Conv1D)           (None, 1, 32)             3104      \n",
      "_________________________________________________________________\n",
      "flatten_2 (Flatten)          (None, 32)                0         \n",
      "_________________________________________________________________\n",
      "dense_5 (Dense)              (None, 32)                1056      \n",
      "_________________________________________________________________\n",
      "dropout_3 (Dropout)          (None, 32)                0         \n",
      "_________________________________________________________________\n",
      "dense_6 (Dense)              (None, 32)                1056      \n",
      "_________________________________________________________________\n",
      "dropout_4 (Dropout)          (None, 32)                0         \n",
      "_________________________________________________________________\n",
      "dense_7 (Dense)              (None, 2)                 66        \n",
      "=================================================================\n",
      "Total params: 4,248,738\n",
      "Trainable params: 4,248,738\n",
      "Non-trainable params: 0\n",
      "_________________________________________________________________\n",
      "None\n"
     ]
    }
   ],
   "source": [
    "print X_tr.shape\n",
    "print y_tr.shape\n",
    "print model.summary()"
   ]
  },
  {
   "cell_type": "code",
   "execution_count": 39,
   "metadata": {},
   "outputs": [
    {
     "name": "stdout",
     "output_type": "stream",
     "text": [
      "Epoch 1/10\n",
      "2935/2935 [==============================] - 0s - loss: 0.4636 - acc: 0.8528     \n",
      "Epoch 2/10\n",
      "2935/2935 [==============================] - 0s - loss: 0.3136 - acc: 0.8920     \n",
      "Epoch 3/10\n",
      "2935/2935 [==============================] - 0s - loss: 0.2461 - acc: 0.9233     \n",
      "Epoch 4/10\n",
      "2935/2935 [==============================] - 0s - loss: 0.2144 - acc: 0.9339     \n",
      "Epoch 5/10\n",
      "2935/2935 [==============================] - 0s - loss: 0.1892 - acc: 0.9417     \n",
      "Epoch 6/10\n",
      "2935/2935 [==============================] - 0s - loss: 0.1789 - acc: 0.9434     \n",
      "Epoch 7/10\n",
      "2935/2935 [==============================] - 0s - loss: 0.1695 - acc: 0.9472     \n",
      "Epoch 8/10\n",
      "2935/2935 [==============================] - 0s - loss: 0.1650 - acc: 0.9479     \n",
      "Epoch 9/10\n",
      "2935/2935 [==============================] - 0s - loss: 0.1602 - acc: 0.9509     \n",
      "Epoch 10/10\n",
      "2935/2935 [==============================] - 0s - loss: 0.1564 - acc: 0.9523     \n"
     ]
    },
    {
     "data": {
      "text/plain": [
       "<keras.callbacks.History at 0x7f071fe7df50>"
      ]
     },
     "execution_count": 39,
     "metadata": {},
     "output_type": "execute_result"
    }
   ],
   "source": [
    "model.fit(X_tr, y_tr, batch_size=32, epochs=10)"
   ]
  },
  {
   "cell_type": "code",
   "execution_count": 40,
   "metadata": {},
   "outputs": [
    {
     "name": "stdout",
     "output_type": "stream",
     "text": [
      "200/200 [==============================] - 0s\n"
     ]
    },
    {
     "data": {
      "text/plain": [
       "[1.3019599702099611, 0.58499999999999996]"
      ]
     },
     "execution_count": 40,
     "metadata": {},
     "output_type": "execute_result"
    }
   ],
   "source": [
    "model.evaluate(X_ts, y_ts, batch_size=200)"
   ]
  },
  {
   "cell_type": "code",
   "execution_count": 41,
   "metadata": {},
   "outputs": [
    {
     "name": "stdout",
     "output_type": "stream",
     "text": [
      "[[  6.52191876e-01   3.47808124e-01]\n",
      " [  9.20623049e-01   7.93769511e-02]\n",
      " [  9.70065467e-01   2.99345334e-02]\n",
      " [  9.99934187e-01   6.58130605e-05]\n",
      " [  9.75846915e-01   2.41530847e-02]\n",
      " [  8.01496424e-01   1.98503576e-01]\n",
      " [  9.39989632e-01   6.00103680e-02]\n",
      " [  9.99933591e-01   6.64089054e-05]\n",
      " [  9.28109464e-01   7.18905357e-02]\n",
      " [  9.41305200e-01   5.86948002e-02]\n",
      " [  8.93253593e-01   1.06746407e-01]\n",
      " [  3.54454213e-01   6.45545787e-01]\n",
      " [  9.15221365e-01   8.47786351e-02]\n",
      " [  8.65772242e-01   1.34227758e-01]\n",
      " [  9.19756560e-01   8.02434402e-02]\n",
      " [  9.99613721e-01   3.86278909e-04]\n",
      " [  9.41305200e-01   5.86948002e-02]\n",
      " [  1.00000000e+00   2.56811587e-10]\n",
      " [  9.99207900e-01   7.92100171e-04]\n",
      " [  9.39352941e-01   6.06470595e-02]]\n"
     ]
    }
   ],
   "source": [
    "print model.predict(X_ts[0:20])"
   ]
  },
  {
   "cell_type": "code",
   "execution_count": 24,
   "metadata": {},
   "outputs": [
    {
     "name": "stdout",
     "output_type": "stream",
     "text": [
      "[[  9.99999944e-01   5.58455853e-08]\n",
      " [  1.00000000e+00   2.99722810e-10]\n",
      " [  5.06029170e-01   4.93970830e-01]\n",
      " [  5.06029170e-01   4.93970830e-01]\n",
      " [  9.99999868e-01   1.32425045e-07]\n",
      " [  9.99999980e-01   1.99602362e-08]\n",
      " [  5.06029170e-01   4.93970830e-01]\n",
      " [  5.06029170e-01   4.93970830e-01]\n",
      " [  5.06029170e-01   4.93970830e-01]\n",
      " [  5.06029170e-01   4.93970830e-01]\n",
      " [  5.07436490e-01   4.92563510e-01]\n",
      " [  5.06027682e-01   4.93972318e-01]\n",
      " [  5.06029170e-01   4.93970830e-01]\n",
      " [  5.06029170e-01   4.93970830e-01]\n",
      " [  9.99999999e-01   1.17829729e-09]\n",
      " [  1.00000000e+00   3.32733742e-10]\n",
      " [  5.06029170e-01   4.93970830e-01]\n",
      " [  5.06029170e-01   4.93970830e-01]\n",
      " [  5.06028193e-01   4.93971807e-01]\n",
      " [  9.99999980e-01   1.99602362e-08]]\n"
     ]
    }
   ],
   "source": [
    "print model.predict(X_ts[0:20])"
   ]
  },
  {
   "cell_type": "code",
   "execution_count": 10,
   "metadata": {},
   "outputs": [
    {
     "name": "stdout",
     "output_type": "stream",
     "text": [
      "[[ 1.  1.  1.  1.  1.  1.  1.  1.  1.  1.  1.  1.  1.  1.  1.  1.  1.  1.\n",
      "   1.  1.]\n",
      " [ 1. -1. -1.  1.  1. -1. -1.  1.  1.  1. -1.  1.  1. -1.  1.  1.  1.  1.\n",
      "   1.  1.]\n",
      " [ 1. -1. -1.  1.  1.  1. -1.  1.  1. -1.  1.  1.  1.  1.  1.  1.  1.  1.\n",
      "   1.  1.]\n",
      " [ 1. -1. -1.  1.  1. -1.  1. -1.  1.  1. -1.  1. -1. -1.  1.  1.  1.  1.\n",
      "   1.  1.]\n",
      " [ 1.  1.  1.  1.  1.  1.  1.  1.  1.  1.  1.  1.  1.  1.  1.  1.  1.  1.\n",
      "   1.  1.]\n",
      " [ 1. -1. -1.  1.  1. -1. -1.  1.  1.  1.  1.  1.  1.  1.  1.  1.  1.  1.\n",
      "   1.  1.]\n",
      " [-1. -1.  1.  1. -1.  1.  1. -1.  1. -1.  1.  1.  1. -1.  1.  1. -1.  1.\n",
      "   1.  1.]\n",
      " [ 1. -1.  1.  1.  1.  1.  1.  1.  1.  1. -1.  1.  1.  1. -1.  1.  1.  1.\n",
      "   1.  1.]\n",
      " [ 1. -1. -1.  1.  1.  1.  1.  1.  1.  1.  1. -1.  1.  1.  1.  1.  1.  1.\n",
      "  -1.  1.]\n",
      " [ 1.  1. -1. -1.  1.  1. -1.  1.  1.  1.  1. -1. -1. -1.  1.  1. -1.  1.\n",
      "   1. -1.]\n",
      " [ 1.  1.  1.  1.  1.  1.  1.  1.  1.  1.  1.  1.  1.  1.  1.  1.  1.  1.\n",
      "   1.  1.]\n",
      " [ 1.  1.  1.  1.  1.  1.  1.  1.  1.  1.  1.  1.  1.  1.  1.  1.  1.  1.\n",
      "   1.  1.]\n",
      " [ 1. -1. -1.  1.  1.  1. -1.  1.  1. -1.  1.  1.  1.  1.  1.  1.  1. -1.\n",
      "   1.  1.]\n",
      " [ 1. -1. -1.  1.  1. -1. -1.  1.  1. -1.  1. -1.  1.  1. -1.  1. -1. -1.\n",
      "   1.  1.]\n",
      " [ 1. -1. -1.  1.  1.  1. -1.  1.  1. -1.  1.  1.  1.  1.  1.  1.  1.  1.\n",
      "   1.  1.]\n",
      " [ 1.  1.  1.  1.  1.  1.  1.  1.  1.  1.  1.  1.  1.  1.  1.  1.  1.  1.\n",
      "   1.  1.]\n",
      " [ 1. -1. -1.  1.  1. -1.  1. -1.  1.  1. -1.  1. -1. -1.  1.  1.  1.  1.\n",
      "   1.  1.]\n",
      " [ 1. -1. -1.  1.  1. -1.  1. -1.  1.  1. -1.  1. -1. -1.  1.  1.  1.  1.\n",
      "   1.  1.]\n",
      " [ 1. -1. -1.  1.  1.  1. -1.  1. -1.  1.  1. -1.  1.  1.  1.  1.  1.  1.\n",
      "   1.  1.]\n",
      " [ 1. -1. -1.  1.  1. -1.  1. -1.  1.  1. -1.  1. -1. -1.  1.  1.  1.  1.\n",
      "   1.  1.]]\n"
     ]
    }
   ],
   "source": [
    "print X_ts[0:20,0:20]"
   ]
  },
  {
   "cell_type": "code",
   "execution_count": 11,
   "metadata": {},
   "outputs": [
    {
     "name": "stdout",
     "output_type": "stream",
     "text": [
      "[[ 1.  0.]\n",
      " [ 0.  1.]\n",
      " [ 0.  1.]\n",
      " [ 0.  1.]\n",
      " [ 1.  0.]\n",
      " [ 0.  1.]\n",
      " [ 0.  1.]\n",
      " [ 0.  1.]\n",
      " [ 0.  1.]\n",
      " [ 0.  1.]\n",
      " [ 1.  0.]\n",
      " [ 1.  0.]\n",
      " [ 0.  1.]\n",
      " [ 0.  1.]\n",
      " [ 0.  1.]\n",
      " [ 1.  0.]\n",
      " [ 0.  1.]\n",
      " [ 0.  1.]\n",
      " [ 0.  1.]\n",
      " [ 0.  1.]]\n"
     ]
    }
   ],
   "source": [
    "print y_ts[0:20]"
   ]
  },
  {
   "cell_type": "code",
   "execution_count": null,
   "metadata": {
    "collapsed": true
   },
   "outputs": [],
   "source": []
  }
 ],
 "metadata": {
  "kernelspec": {
   "display_name": "Python 2",
   "language": "python",
   "name": "python2"
  },
  "language_info": {
   "codemirror_mode": {
    "name": "ipython",
    "version": 2
   },
   "file_extension": ".py",
   "mimetype": "text/x-python",
   "name": "python",
   "nbconvert_exporter": "python",
   "pygments_lexer": "ipython2",
   "version": "2.7.13"
  }
 },
 "nbformat": 4,
 "nbformat_minor": 2
}

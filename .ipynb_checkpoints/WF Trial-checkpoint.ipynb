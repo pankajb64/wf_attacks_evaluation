{
 "cells": [
  {
   "cell_type": "code",
   "execution_count": 1,
   "metadata": {},
   "outputs": [
    {
     "name": "stderr",
     "output_type": "stream",
     "text": [
      "Using Theano backend.\n"
     ]
    }
   ],
   "source": [
    "import theano\n",
    "from keras.models import Sequential\n",
    "from keras.layers.core import Flatten, Dense, Dropout\n",
    "from keras.layers.convolutional import Conv1D, MaxPooling1D, ZeroPadding1D\n",
    "from keras.optimizers import SGD\n",
    "import numpy as np\n",
    "import os"
   ]
  },
  {
   "cell_type": "code",
   "execution_count": 119,
   "metadata": {
    "collapsed": true
   },
   "outputs": [],
   "source": [
    "feat_0_path='data/mon_exp/feat/0'\n",
    "feat_1_path='data/mon_exp/feat/1'\n",
    "max_feat_count=7500\n",
    "\n",
    "def get_feats(feat_0_path, feat_1_path, max_feat_count):\n",
    "    feats_0_list = []\n",
    "    for fil in os.listdir(feat_0_path):\n",
    "        feats = []\n",
    "        with open(os.path.join(feat_0_path, fil)) as f:\n",
    "            feats = f.readlines()\n",
    "            feats = [float(line) for line in feats]\n",
    "        feats = np.array(feats)\n",
    "        feats1 = np.zeros(max_feat_count)\n",
    "        length = min(len(feats), max_feat_count)\n",
    "        feats1[:length] = feats[:length]\n",
    "        #print len(feats)\n",
    "        feats_0_list.append(feats1)\n",
    "\n",
    "    feats_1_list = []\n",
    "    for fil in os.listdir(feat_1_path):\n",
    "        feats = []\n",
    "        with open(os.path.join(feat_1_path, fil)) as f:\n",
    "            feats = f.readlines()\n",
    "            feats = [float(line) for line in feats]\n",
    "        feats = np.array(feats)\n",
    "        feats1 = np.zeros(max_feat_count)\n",
    "        length = min(len(feats), max_feat_count)\n",
    "        feats1[:length] = feats[:length]\n",
    "        #print len(feats1)\n",
    "        feats_1_list.append(feats1)\n",
    "    return feats_0_list, feats_1_list  "
   ]
  },
  {
   "cell_type": "code",
   "execution_count": 126,
   "metadata": {},
   "outputs": [],
   "source": [
    "num_test=100\n",
    "def split(num_test, feats_0_list, feats_1_list):\n",
    "    f0 = np.array(feats_0_list)\n",
    "    f1 = np.array(feats_1_list)\n",
    "    f1 = np.repeat(f1, 9, axis=0)\n",
    "    print f0.shape\n",
    "    print f1.shape\n",
    "    f0_tr = f0[:-num_test, :]\n",
    "    f1_tr = f1[:-num_test, :]\n",
    "    print f0_tr.shape\n",
    "    print f1_tr.shape\n",
    "    f0_ts = f0[-num_test:, :]\n",
    "    f1_ts = f1[-num_test:, :]\n",
    "    print f0_ts.shape\n",
    "    print f1_ts.shape\n",
    "    return f0_tr, f1_tr, f0_ts, f1_ts"
   ]
  },
  {
   "cell_type": "code",
   "execution_count": 127,
   "metadata": {},
   "outputs": [],
   "source": [
    "def append_labels(f0_tr, f1_tr, f0_ts, f1_ts):\n",
    "    lab_0_tr = np.zeros((f0_tr.shape[0],2))\n",
    "    lab_1_tr = np.zeros((f1_tr.shape[0],2))\n",
    "    lab_0_ts = np.zeros((f0_ts.shape[0],2))\n",
    "    lab_1_ts = np.zeros((f1_ts.shape[0],2))\n",
    "\n",
    "    lab_0_tr[:,0] = 1\n",
    "    lab_1_tr[:,1] = 1\n",
    "    lab_0_ts[:,0] = 1\n",
    "    lab_1_ts[:,1] = 1\n",
    "\n",
    "    print lab_0_tr.shape\n",
    "    x_0_tr = np.append(f0_tr,lab_0_tr, axis=1)\n",
    "    x_1_tr = np.append(f1_tr, lab_1_tr, axis=1)\n",
    "    print x_0_tr.shape\n",
    "    x_0_ts = np.append(f0_ts, lab_0_ts, axis=1)\n",
    "    x_1_ts = np.append(f1_ts, lab_1_ts, axis=1)\n",
    "    return x_0_tr, lab_0_tr, x_1_tr, lab_1_tr"
   ]
  },
  {
   "cell_type": "code",
   "execution_count": 128,
   "metadata": {},
   "outputs": [],
   "source": [
    "def get_shuffled( max_feat_count, x_0_tr, lab_0_tr, x_1_tr, lab_1_tr):\n",
    "    x_tr = np.vstack([x_0_tr, x_1_tr])\n",
    "    print x_tr.shape\n",
    "    x_ts = np.vstack([x_0_ts, x_1_ts])\n",
    "    np.random.shuffle(x_tr)\n",
    "    np.random.shuffle(x_ts)\n",
    "    X_tr = x_tr[:, 0:max_feat_count]\n",
    "    y_tr = x_tr[:, max_feat_count:]\n",
    "    X_ts = x_ts[:, 0:max_feat_count]\n",
    "    y_ts = x_ts[:, max_feat_count:]\n",
    "    print X_tr.shape\n",
    "    print y_tr.shape\n",
    "    print X_ts.shape\n",
    "    print y_ts.shape\n",
    "    return X_tr, y_tr, X_ts, y_ts"
   ]
  },
  {
   "cell_type": "code",
   "execution_count": 99,
   "metadata": {
    "collapsed": true
   },
   "outputs": [],
   "source": [
    "def VGG_16(max_len, weights_path=None):\n",
    "    model = Sequential()\n",
    "    model.add(ZeroPadding1D((1,1),input_shape=(1, max_len)))\n",
    "    model.add(Conv1D(256, (3, ), activation='relu'))\n",
    "    model.add(ZeroPadding1D((1,1)))\n",
    "    model.add(Conv1D(256, (3, ), activation='relu'))\n",
    "    #model.add(MaxPooling2D((2,2), strides=(2,2)))\n",
    "    print model.output_shape\n",
    "    model.add(ZeroPadding1D((1,1)))\n",
    "    model.add(Conv1D(128, (3, ), activation='relu'))\n",
    "    model.add(ZeroPadding1D((1,1)))\n",
    "    model.add(Conv1D(128, (3, ), activation='relu'))\n",
    "    #print \"Before max pool %s\" %str(model.output_shape)\n",
    "    #model.add(MaxPooling1D(pool_size=1, strides=1))\n",
    "    #print model.output_shape\n",
    "    model.add(ZeroPadding1D((1,1)))\n",
    "    model.add(Conv1D(64, (3, ), activation='relu'))\n",
    "    model.add(ZeroPadding1D((1,1)))\n",
    "    model.add(Conv1D(64, (3, ), activation='relu'))\n",
    "    model.add(ZeroPadding1D((1,1)))\n",
    "    model.add(Conv1D(64, (3, ), activation='relu'))\n",
    "    #print model.output_shape\n",
    "    #model.add(MaxPooling1D(2, strides=2))\n",
    "    #print model.output_shape\n",
    "    model.add(ZeroPadding1D((1,1)))\n",
    "    model.add(Conv1D(32, (3, ), activation='relu'))\n",
    "    model.add(ZeroPadding1D((1,1)))\n",
    "    model.add(Conv1D(32, (3, ), activation='relu'))\n",
    "    model.add(ZeroPadding1D((1,1)))\n",
    "    model.add(Conv1D(32, (3, ), activation='relu'))\n",
    "    #model.add(MaxPooling1D(2, strides=2))\n",
    "    #print model.output_shape\n",
    "    '''\n",
    "    model.add(ZeroPadding2D((1,1)))\n",
    "    model.add(Convolution2D(512, 3, 3, activation='relu'))\n",
    "    model.add(ZeroPadding2D((1,1)))\n",
    "    model.add(Convolution2D(512, 3, 3, activation='relu'))\n",
    "    model.add(ZeroPadding2D((1,1)))\n",
    "    model.add(Convolution2D(512, 3, 3, activation='relu'))\n",
    "    model.add(MaxPooling2D((2,2), strides=(2,2)))\n",
    "    '''\n",
    "    model.add(Flatten())\n",
    "    model.add(Dense(32, activation='relu'))\n",
    "    model.add(Dropout(0.5))\n",
    "    model.add(Dense(32, activation='relu'))\n",
    "    model.add(Dropout(0.5))\n",
    "    model.add(Dense(2, activation='softmax'))\n",
    "    '''model.add(Dense(16, activation='relu'))\n",
    "    model.add(Dropout(0.5))\n",
    "    model.add(Dense(8, activation='relu'))\n",
    "    model.add(Dropout(0.5))\n",
    "    model.add(Dense(4, activation='relu'))\n",
    "    model.add(Dropout(0.5))\n",
    "    model.add(Dense(2, activation='relu'))\n",
    "    model.add(Dropout(0.5))'''\n",
    "    \n",
    "    \n",
    "    if weights_path:\n",
    "        model.load_weights(weights_path)\n",
    "\n",
    "    return model\n"
   ]
  },
  {
   "cell_type": "code",
   "execution_count": 100,
   "metadata": {},
   "outputs": [
    {
     "name": "stdout",
     "output_type": "stream",
     "text": [
      "0.10.0dev1.dev-d51233517debf3a1231a33058d65e8f969db923d\n",
      "th\n",
      "True\n",
      "<function ifelse at 0x7f8b25dda230>\n"
     ]
    }
   ],
   "source": [
    "print theano.__version__\n",
    "import keras.backend as K\n",
    "K.set_image_dim_ordering('th')\n",
    "print K.image_dim_ordering()\n",
    "input_shape=(1,max_feat_count)\n",
    "print all(input_shape[1:])\n",
    "from theano import ifelse\n",
    "print theano.ifelse.ifelse"
   ]
  },
  {
   "cell_type": "code",
   "execution_count": 112,
   "metadata": {
    "collapsed": true
   },
   "outputs": [],
   "source": [
    "def get_model(max_feat_count, vgg = False):\n",
    "    if not vgg:\n",
    "        model = Sequential()\n",
    "        #model.add(Dense(2, activation='relu', input_dim=max_feat_count))\n",
    "        #model.add(Dense(2, activation='softmax' ))\n",
    "        model.add(Dense(2, activation='softmax',input_dim=max_feat_count ))\n",
    "    else:\n",
    "        model = VGG_16(max_feat_count)\n",
    "    model.compile(optimizer='rmsprop', loss='binary_crossentropy', metrics=['accuracy']  )\n",
    "    return model"
   ]
  },
  {
   "cell_type": "code",
   "execution_count": null,
   "metadata": {
    "collapsed": true
   },
   "outputs": [],
   "source": []
  },
  {
   "cell_type": "code",
   "execution_count": 113,
   "metadata": {
    "collapsed": true
   },
   "outputs": [],
   "source": [
    "def reshape(X_tr, X_ts, vgg = False):\n",
    "    if vgg:\n",
    "        X_tr = X_tr.reshape(X_tr.shape[0], 1, X_tr.shape[1])\n",
    "        X_ts = X_ts.reshape(X_ts.shape[0], 1, X_ts.shape[1])\n",
    "    return X_tr, X_ts"
   ]
  },
  {
   "cell_type": "code",
   "execution_count": 135,
   "metadata": {
    "collapsed": true
   },
   "outputs": [],
   "source": [
    "def train_model(model, X_tr, y_tr, batch_siz=32, epoch=10):\n",
    "    return model.fit(X_tr, y_tr, batch_size=batch_siz, epochs=epoch)"
   ]
  },
  {
   "cell_type": "code",
   "execution_count": 115,
   "metadata": {
    "collapsed": true
   },
   "outputs": [],
   "source": [
    "def test_model(model, X_ts, y_ts):\n",
    "    return model.evaluate(X_ts, y_ts, batch_size=X_ts.shape[0])"
   ]
  },
  {
   "cell_type": "code",
   "execution_count": 89,
   "metadata": {},
   "outputs": [
    {
     "name": "stdout",
     "output_type": "stream",
     "text": [
      "(5495, 1, 7000)\n",
      "(5495, 2)\n",
      "_________________________________________________________________\n",
      "Layer (type)                 Output Shape              Param #   \n",
      "=================================================================\n",
      "dense_10 (Dense)             (None, 2)                 14002     \n",
      "=================================================================\n",
      "Total params: 14,002\n",
      "Trainable params: 14,002\n",
      "Non-trainable params: 0\n",
      "_________________________________________________________________\n",
      "None\n"
     ]
    }
   ],
   "source": [
    "print X_tr.shape\n",
    "print y_tr.shape\n",
    "print model.summary()"
   ]
  },
  {
   "cell_type": "code",
   "execution_count": 151,
   "metadata": {},
   "outputs": [],
   "source": [
    "def run(feat_0_path, feat_1_path, max_feat_count, num_test, vgg=False, batch_size=32, epochs=10):\n",
    "    X_tr, y_tr, X_ts, y_ts = get_shuffled( max_feat_count, *append_labels( *split( num_test, \\\n",
    "                                                        *get_feats(feat_0_path, feat_1_path, max_feat_count) ) ) )\n",
    "    model = get_model(max_feat_count, vgg)\n",
    "    h_tr = model.fit(X_tr, y_tr, batch_size=batch_size, epochs=epochs)\n",
    "    l_tr = h_tr.history['loss'][-1]\n",
    "    a_tr = h_tr.history['acc'][-1]\n",
    "    print l_tr\n",
    "    print a_tr\n",
    "    h_ts = model.evaluate(X_ts, y_ts, batch_size=X_ts.shape[0])\n",
    "    l_ts = h_ts[0]\n",
    "    a_ts = h_ts[1]\n",
    "    print l_ts\n",
    "    print a_ts\n",
    "    return l_tr, a_tr, l_ts, a_ts"
   ]
  },
  {
   "cell_type": "code",
   "execution_count": 159,
   "metadata": {},
   "outputs": [],
   "source": [
    "def batch(feat_0_path, feat_1_path, num_test, start_feat, end_feat, step_feat=100):\n",
    "    tr_loss = []; tr_acc = []; ts_loss = []; ts_acc = []\n",
    "    for feat in xrange(start_feat, end_feat, step_feat):\n",
    "        print \"Starting run - max_feat_count = %d\"%feat\n",
    "        l_tr, a_tr, l_ts, a_ts = run(feat_0_path, feat_1_path, feat, num_test)\n",
    "        tr_loss.append(l_tr)\n",
    "        tr_acc.append(a_tr)\n",
    "        ts_loss.append(l_ts)\n",
    "        ts_acc.append(a_ts)\n",
    "    return tr_loss, tr_acc, ts_loss, ts_acc    "
   ]
  },
  {
   "cell_type": "code",
   "execution_count": 160,
   "metadata": {},
   "outputs": [
    {
     "name": "stdout",
     "output_type": "stream",
     "text": [
      "Starting run - max_feat_count = 7500\n",
      "(2815, 100)\n",
      "(2880, 100)\n",
      "(2715, 100)\n",
      "(2780, 100)\n",
      "(100, 100)\n",
      "(100, 100)\n",
      "(2715, 2)\n",
      "(2715, 102)\n",
      "(5495, 102)\n",
      "(5495, 100)\n",
      "(5495, 2)\n",
      "(200, 100)\n",
      "(200, 7402)\n",
      "Epoch 1/10\n",
      "5495/5495 [==============================] - 0s - loss: 0.7777 - acc: 0.5247     \n",
      "Epoch 2/10\n",
      "5495/5495 [==============================] - 0s - loss: 0.6189 - acc: 0.6524     \n",
      "Epoch 3/10\n",
      "5495/5495 [==============================] - 0s - loss: 0.5789 - acc: 0.6961     \n",
      "Epoch 4/10\n",
      "5495/5495 [==============================] - 0s - loss: 0.5635 - acc: 0.7057     \n",
      "Epoch 5/10\n",
      "5495/5495 [==============================] - 0s - loss: 0.5563 - acc: 0.7112     \n",
      "Epoch 6/10\n",
      "5495/5495 [==============================] - 0s - loss: 0.5521 - acc: 0.7152     \n",
      "Epoch 7/10\n",
      "5495/5495 [==============================] - 0s - loss: 0.5499 - acc: 0.7179     \n",
      "Epoch 8/10\n",
      "5495/5495 [==============================] - 0s - loss: 0.5481 - acc: 0.7168     \n",
      "Epoch 9/10\n",
      "5495/5495 [==============================] - 0s - loss: 0.5478 - acc: 0.7163     \n",
      "Epoch 10/10\n",
      "5495/5495 [==============================] - 0s - loss: 0.5469 - acc: 0.7194     \n",
      "0.546891902345\n",
      "0.719381255687\n"
     ]
    },
    {
     "ename": "ValueError",
     "evalue": "Error when checking target: expected dense_21 to have shape (None, 2) but got array with shape (200, 7402)",
     "output_type": "error",
     "traceback": [
      "\u001b[0;31m---------------------------------------------------------------------------\u001b[0m",
      "\u001b[0;31mValueError\u001b[0m                                Traceback (most recent call last)",
      "\u001b[0;32m<ipython-input-160-6123581e1699>\u001b[0m in \u001b[0;36m<module>\u001b[0;34m()\u001b[0m\n\u001b[1;32m      4\u001b[0m \u001b[0mstart_feat\u001b[0m \u001b[0;34m=\u001b[0m \u001b[0;36m100\u001b[0m\u001b[0;34m\u001b[0m\u001b[0m\n\u001b[1;32m      5\u001b[0m \u001b[0mend_feat\u001b[0m \u001b[0;34m=\u001b[0m \u001b[0;36m10000\u001b[0m\u001b[0;34m\u001b[0m\u001b[0m\n\u001b[0;32m----> 6\u001b[0;31m \u001b[0mtr_loss\u001b[0m\u001b[0;34m,\u001b[0m \u001b[0mtr_acc\u001b[0m\u001b[0;34m,\u001b[0m \u001b[0mts_loss\u001b[0m\u001b[0;34m,\u001b[0m \u001b[0mts_acc\u001b[0m \u001b[0;34m=\u001b[0m \u001b[0mbatch\u001b[0m\u001b[0;34m(\u001b[0m\u001b[0mfeat_0_path\u001b[0m\u001b[0;34m,\u001b[0m \u001b[0mfeat_1_path\u001b[0m\u001b[0;34m,\u001b[0m \u001b[0mnum_test\u001b[0m\u001b[0;34m,\u001b[0m \u001b[0mstart_feat\u001b[0m\u001b[0;34m,\u001b[0m \u001b[0mend_feat\u001b[0m\u001b[0;34m)\u001b[0m\u001b[0;34m\u001b[0m\u001b[0m\n\u001b[0m",
      "\u001b[0;32m<ipython-input-159-e19e62d6efa5>\u001b[0m in \u001b[0;36mbatch\u001b[0;34m(feat_0_path, feat_1_path, num_test, start_feat, end_feat, step_feat)\u001b[0m\n\u001b[1;32m      3\u001b[0m     \u001b[0;32mfor\u001b[0m \u001b[0mfeat\u001b[0m \u001b[0;32min\u001b[0m \u001b[0mxrange\u001b[0m\u001b[0;34m(\u001b[0m\u001b[0mstart_feat\u001b[0m\u001b[0;34m,\u001b[0m \u001b[0mend_feat\u001b[0m\u001b[0;34m,\u001b[0m \u001b[0mstep_feat\u001b[0m\u001b[0;34m)\u001b[0m\u001b[0;34m:\u001b[0m\u001b[0;34m\u001b[0m\u001b[0m\n\u001b[1;32m      4\u001b[0m         \u001b[0;32mprint\u001b[0m \u001b[0;34m\"Starting run - max_feat_count = %d\"\u001b[0m\u001b[0;34m%\u001b[0m\u001b[0mmax_feat_count\u001b[0m\u001b[0;34m\u001b[0m\u001b[0m\n\u001b[0;32m----> 5\u001b[0;31m         \u001b[0ml_tr\u001b[0m\u001b[0;34m,\u001b[0m \u001b[0ma_tr\u001b[0m\u001b[0;34m,\u001b[0m \u001b[0ml_ts\u001b[0m\u001b[0;34m,\u001b[0m \u001b[0ma_ts\u001b[0m \u001b[0;34m=\u001b[0m \u001b[0mrun\u001b[0m\u001b[0;34m(\u001b[0m\u001b[0mfeat_0_path\u001b[0m\u001b[0;34m,\u001b[0m \u001b[0mfeat_1_path\u001b[0m\u001b[0;34m,\u001b[0m \u001b[0mfeat\u001b[0m\u001b[0;34m,\u001b[0m \u001b[0mnum_test\u001b[0m\u001b[0;34m)\u001b[0m\u001b[0;34m\u001b[0m\u001b[0m\n\u001b[0m\u001b[1;32m      6\u001b[0m         \u001b[0mtr_loss\u001b[0m\u001b[0;34m.\u001b[0m\u001b[0mappend\u001b[0m\u001b[0;34m(\u001b[0m\u001b[0ml_tr\u001b[0m\u001b[0;34m)\u001b[0m\u001b[0;34m\u001b[0m\u001b[0m\n\u001b[1;32m      7\u001b[0m         \u001b[0mtr_acc\u001b[0m\u001b[0;34m.\u001b[0m\u001b[0mappend\u001b[0m\u001b[0;34m(\u001b[0m\u001b[0ma_tr\u001b[0m\u001b[0;34m)\u001b[0m\u001b[0;34m\u001b[0m\u001b[0m\n",
      "\u001b[0;32m<ipython-input-151-0686299737c9>\u001b[0m in \u001b[0;36mrun\u001b[0;34m(feat_0_path, feat_1_path, max_feat_count, num_test, vgg, batch_size, epochs)\u001b[0m\n\u001b[1;32m      7\u001b[0m     \u001b[0;32mprint\u001b[0m \u001b[0ml_tr\u001b[0m\u001b[0;34m\u001b[0m\u001b[0m\n\u001b[1;32m      8\u001b[0m     \u001b[0;32mprint\u001b[0m \u001b[0ma_tr\u001b[0m\u001b[0;34m\u001b[0m\u001b[0m\n\u001b[0;32m----> 9\u001b[0;31m     \u001b[0mh_ts\u001b[0m \u001b[0;34m=\u001b[0m \u001b[0mmodel\u001b[0m\u001b[0;34m.\u001b[0m\u001b[0mevaluate\u001b[0m\u001b[0;34m(\u001b[0m\u001b[0mX_ts\u001b[0m\u001b[0;34m,\u001b[0m \u001b[0my_ts\u001b[0m\u001b[0;34m,\u001b[0m \u001b[0mbatch_size\u001b[0m\u001b[0;34m=\u001b[0m\u001b[0mX_ts\u001b[0m\u001b[0;34m.\u001b[0m\u001b[0mshape\u001b[0m\u001b[0;34m[\u001b[0m\u001b[0;36m0\u001b[0m\u001b[0;34m]\u001b[0m\u001b[0;34m)\u001b[0m\u001b[0;34m\u001b[0m\u001b[0m\n\u001b[0m\u001b[1;32m     10\u001b[0m     \u001b[0ml_ts\u001b[0m \u001b[0;34m=\u001b[0m \u001b[0mh_ts\u001b[0m\u001b[0;34m[\u001b[0m\u001b[0;36m0\u001b[0m\u001b[0;34m]\u001b[0m\u001b[0;34m\u001b[0m\u001b[0m\n\u001b[1;32m     11\u001b[0m     \u001b[0ma_ts\u001b[0m \u001b[0;34m=\u001b[0m \u001b[0mh_ts\u001b[0m\u001b[0;34m[\u001b[0m\u001b[0;36m1\u001b[0m\u001b[0;34m]\u001b[0m\u001b[0;34m\u001b[0m\u001b[0m\n",
      "\u001b[0;32m/home/pankaj/anaconda2/lib/python2.7/site-packages/keras/models.pyc\u001b[0m in \u001b[0;36mevaluate\u001b[0;34m(self, x, y, batch_size, verbose, sample_weight)\u001b[0m\n\u001b[1;32m    897\u001b[0m                                    \u001b[0mbatch_size\u001b[0m\u001b[0;34m=\u001b[0m\u001b[0mbatch_size\u001b[0m\u001b[0;34m,\u001b[0m\u001b[0;34m\u001b[0m\u001b[0m\n\u001b[1;32m    898\u001b[0m                                    \u001b[0mverbose\u001b[0m\u001b[0;34m=\u001b[0m\u001b[0mverbose\u001b[0m\u001b[0;34m,\u001b[0m\u001b[0;34m\u001b[0m\u001b[0m\n\u001b[0;32m--> 899\u001b[0;31m                                    sample_weight=sample_weight)\n\u001b[0m\u001b[1;32m    900\u001b[0m \u001b[0;34m\u001b[0m\u001b[0m\n\u001b[1;32m    901\u001b[0m     \u001b[0;32mdef\u001b[0m \u001b[0mpredict\u001b[0m\u001b[0;34m(\u001b[0m\u001b[0mself\u001b[0m\u001b[0;34m,\u001b[0m \u001b[0mx\u001b[0m\u001b[0;34m,\u001b[0m \u001b[0mbatch_size\u001b[0m\u001b[0;34m=\u001b[0m\u001b[0;36m32\u001b[0m\u001b[0;34m,\u001b[0m \u001b[0mverbose\u001b[0m\u001b[0;34m=\u001b[0m\u001b[0;36m0\u001b[0m\u001b[0;34m)\u001b[0m\u001b[0;34m:\u001b[0m\u001b[0;34m\u001b[0m\u001b[0m\n",
      "\u001b[0;32m/home/pankaj/anaconda2/lib/python2.7/site-packages/keras/engine/training.pyc\u001b[0m in \u001b[0;36mevaluate\u001b[0;34m(self, x, y, batch_size, verbose, sample_weight)\u001b[0m\n\u001b[1;32m   1449\u001b[0m             \u001b[0msample_weight\u001b[0m\u001b[0;34m=\u001b[0m\u001b[0msample_weight\u001b[0m\u001b[0;34m,\u001b[0m\u001b[0;34m\u001b[0m\u001b[0m\n\u001b[1;32m   1450\u001b[0m             \u001b[0mcheck_batch_axis\u001b[0m\u001b[0;34m=\u001b[0m\u001b[0mFalse\u001b[0m\u001b[0;34m,\u001b[0m\u001b[0;34m\u001b[0m\u001b[0m\n\u001b[0;32m-> 1451\u001b[0;31m             batch_size=batch_size)\n\u001b[0m\u001b[1;32m   1452\u001b[0m         \u001b[0;31m# Prepare inputs, delegate logic to `_test_loop`.\u001b[0m\u001b[0;34m\u001b[0m\u001b[0;34m\u001b[0m\u001b[0m\n\u001b[1;32m   1453\u001b[0m         \u001b[0;32mif\u001b[0m \u001b[0mself\u001b[0m\u001b[0;34m.\u001b[0m\u001b[0muses_learning_phase\u001b[0m \u001b[0;32mand\u001b[0m \u001b[0;32mnot\u001b[0m \u001b[0misinstance\u001b[0m\u001b[0;34m(\u001b[0m\u001b[0mK\u001b[0m\u001b[0;34m.\u001b[0m\u001b[0mlearning_phase\u001b[0m\u001b[0;34m(\u001b[0m\u001b[0;34m)\u001b[0m\u001b[0;34m,\u001b[0m \u001b[0mint\u001b[0m\u001b[0;34m)\u001b[0m\u001b[0;34m:\u001b[0m\u001b[0;34m\u001b[0m\u001b[0m\n",
      "\u001b[0;32m/home/pankaj/anaconda2/lib/python2.7/site-packages/keras/engine/training.pyc\u001b[0m in \u001b[0;36m_standardize_user_data\u001b[0;34m(self, x, y, sample_weight, class_weight, check_batch_axis, batch_size)\u001b[0m\n\u001b[1;32m   1223\u001b[0m                                     \u001b[0moutput_shapes\u001b[0m\u001b[0;34m,\u001b[0m\u001b[0;34m\u001b[0m\u001b[0m\n\u001b[1;32m   1224\u001b[0m                                     \u001b[0mcheck_batch_axis\u001b[0m\u001b[0;34m=\u001b[0m\u001b[0mFalse\u001b[0m\u001b[0;34m,\u001b[0m\u001b[0;34m\u001b[0m\u001b[0m\n\u001b[0;32m-> 1225\u001b[0;31m                                     exception_prefix='target')\n\u001b[0m\u001b[1;32m   1226\u001b[0m         sample_weights = _standardize_sample_weights(sample_weight,\n\u001b[1;32m   1227\u001b[0m                                                      self._feed_output_names)\n",
      "\u001b[0;32m/home/pankaj/anaconda2/lib/python2.7/site-packages/keras/engine/training.pyc\u001b[0m in \u001b[0;36m_standardize_input_data\u001b[0;34m(data, names, shapes, check_batch_axis, exception_prefix)\u001b[0m\n\u001b[1;32m    138\u001b[0m                             \u001b[0;34m' to have shape '\u001b[0m \u001b[0;34m+\u001b[0m \u001b[0mstr\u001b[0m\u001b[0;34m(\u001b[0m\u001b[0mshapes\u001b[0m\u001b[0;34m[\u001b[0m\u001b[0mi\u001b[0m\u001b[0;34m]\u001b[0m\u001b[0;34m)\u001b[0m \u001b[0;34m+\u001b[0m\u001b[0;34m\u001b[0m\u001b[0m\n\u001b[1;32m    139\u001b[0m                             \u001b[0;34m' but got array with shape '\u001b[0m \u001b[0;34m+\u001b[0m\u001b[0;34m\u001b[0m\u001b[0m\n\u001b[0;32m--> 140\u001b[0;31m                             str(array.shape))\n\u001b[0m\u001b[1;32m    141\u001b[0m     \u001b[0;32mreturn\u001b[0m \u001b[0marrays\u001b[0m\u001b[0;34m\u001b[0m\u001b[0m\n\u001b[1;32m    142\u001b[0m \u001b[0;34m\u001b[0m\u001b[0m\n",
      "\u001b[0;31mValueError\u001b[0m: Error when checking target: expected dense_21 to have shape (None, 2) but got array with shape (200, 7402)"
     ]
    }
   ],
   "source": [
    "feat_0_path='data/mon_exp/feat/0'\n",
    "feat_1_path='data/mon_exp/feat/1'\n",
    "num_test=100\n",
    "start_feat = 100\n",
    "end_feat = 10000\n",
    "tr_loss, tr_acc, ts_loss, ts_acc = batch(feat_0_path, feat_1_path, num_test, start_feat, end_feat)"
   ]
  },
  {
   "cell_type": "code",
   "execution_count": 17,
   "metadata": {},
   "outputs": [
    {
     "name": "stdout",
     "output_type": "stream",
     "text": [
      "[[  5.69689543e-01   4.30310457e-01]\n",
      " [  5.69689543e-01   4.30310457e-01]\n",
      " [  6.61957078e-01   3.38042922e-01]\n",
      " [  4.54505547e-01   5.45494453e-01]\n",
      " [  6.12342503e-01   3.87657497e-01]\n",
      " [  9.99999998e-01   1.59369572e-09]\n",
      " [  8.09497001e-01   1.90502999e-01]\n",
      " [  5.72051439e-01   4.27948561e-01]\n",
      " [  6.75542540e-01   3.24457460e-01]\n",
      " [  6.30778393e-01   3.69221607e-01]\n",
      " [  4.56964257e-01   5.43035743e-01]\n",
      " [  5.83463197e-01   4.16536803e-01]\n",
      " [  1.31149613e-01   8.68850387e-01]\n",
      " [  9.99999824e-01   1.76004363e-07]\n",
      " [  6.27069978e-01   3.72930022e-01]\n",
      " [  6.79499409e-01   3.20500591e-01]\n",
      " [  5.95529672e-01   4.04470328e-01]\n",
      " [  7.02956148e-01   2.97043852e-01]\n",
      " [  8.09497001e-01   1.90502999e-01]\n",
      " [  5.69689543e-01   4.30310457e-01]]\n"
     ]
    }
   ],
   "source": [
    "print model.predict(X_ts[0:20])"
   ]
  },
  {
   "cell_type": "code",
   "execution_count": 24,
   "metadata": {},
   "outputs": [
    {
     "name": "stdout",
     "output_type": "stream",
     "text": [
      "[[  9.99999944e-01   5.58455853e-08]\n",
      " [  1.00000000e+00   2.99722810e-10]\n",
      " [  5.06029170e-01   4.93970830e-01]\n",
      " [  5.06029170e-01   4.93970830e-01]\n",
      " [  9.99999868e-01   1.32425045e-07]\n",
      " [  9.99999980e-01   1.99602362e-08]\n",
      " [  5.06029170e-01   4.93970830e-01]\n",
      " [  5.06029170e-01   4.93970830e-01]\n",
      " [  5.06029170e-01   4.93970830e-01]\n",
      " [  5.06029170e-01   4.93970830e-01]\n",
      " [  5.07436490e-01   4.92563510e-01]\n",
      " [  5.06027682e-01   4.93972318e-01]\n",
      " [  5.06029170e-01   4.93970830e-01]\n",
      " [  5.06029170e-01   4.93970830e-01]\n",
      " [  9.99999999e-01   1.17829729e-09]\n",
      " [  1.00000000e+00   3.32733742e-10]\n",
      " [  5.06029170e-01   4.93970830e-01]\n",
      " [  5.06029170e-01   4.93970830e-01]\n",
      " [  5.06028193e-01   4.93971807e-01]\n",
      " [  9.99999980e-01   1.99602362e-08]]\n"
     ]
    }
   ],
   "source": [
    "print model.predict(X_ts[0:20])"
   ]
  },
  {
   "cell_type": "code",
   "execution_count": 18,
   "metadata": {},
   "outputs": [
    {
     "name": "stdout",
     "output_type": "stream",
     "text": [
      "[[-1.  1.  1. -1.  1.  1. -1.  1.  1.  1. -1.  1. -1.  1. -1. -1.  1.  1.\n",
      "  -1.  1.]\n",
      " [-1.  1.  1. -1.  1.  1. -1.  1.  1.  1. -1.  1. -1.  1. -1. -1.  1.  1.\n",
      "  -1.  1.]\n",
      " [ 1. -1. -1.  1.  1. -1.  1.  1. -1.  1.  1. -1.  1.  1.  1. -1. -1.  1.\n",
      "   1. -1.]\n",
      " [ 1. -1. -1.  1.  1. -1.  1.  1. -1.  1.  1. -1.  1. -1. -1.  1.  1. -1.\n",
      "  -1.  1.]\n",
      " [ 1. -1.  1.  1. -1.  1.  1. -1.  1.  1. -1.  0.  0.  0.  0.  0.  0.  0.\n",
      "   0.  0.]\n",
      " [ 1. -1. -1.  1.  1.  1.  1.  1. -1.  1.  1.  1. -1.  1.  1.  1. -1.  1.\n",
      "   1.  1.]\n",
      " [ 1. -1.  1.  1. -1.  1.  1. -1.  1. -1. -1.  1.  1. -1.  1.  1. -1.  1.\n",
      "   1. -1.]\n",
      " [ 1. -1.  1.  1. -1.  1. -1.  0.  0.  0.  0.  0.  0.  0.  0.  0.  0.  0.\n",
      "   0.  0.]\n",
      " [ 1. -1. -1.  1.  1. -1.  1. -1.  1.  1. -1.  1. -1. -1.  1.  1. -1.  1.\n",
      "   1. -1.]\n",
      " [ 1. -1. -1.  1.  1.  1. -1.  1.  1. -1.  1.  1.  1. -1. -1.  1.  1. -1.\n",
      "  -1.  1.]\n",
      " [ 1. -1. -1.  1.  1. -1.  1.  1. -1.  1.  1.  1. -1.  0.  0.  0.  0.  0.\n",
      "   0.  0.]\n",
      " [ 1. -1. -1.  1.  1. -1.  1.  1. -1.  1. -1. -1.  1.  1. -1.  1.  1. -1.\n",
      "   0.  0.]\n",
      " [ 1. -1. -1.  1.  1.  1.  1.  1. -1.  1.  1.  1. -1.  1. -1.  1. -1.  1.\n",
      "  -1.  1.]\n",
      " [ 1. -1. -1.  1.  1.  1.  1.  1.  1.  1.  1. -1.  1.  1.  1.  1.  1.  1.\n",
      "  -1.  1.]\n",
      " [ 1. -1. -1.  1.  1. -1.  1.  1. -1.  1.  1. -1.  1.  1. -1.  0.  0.  0.\n",
      "   0.  0.]\n",
      " [ 1. -1. -1.  1.  1. -1.  1. -1.  1.  1. -1.  1. -1. -1.  1.  1. -1.  1.\n",
      "   1. -1.]\n",
      " [ 1. -1. -1.  1.  1. -1.  1.  1. -1.  1.  1. -1.  1.  1. -1.  1. -1. -1.\n",
      "   1.  1.]\n",
      " [ 1. -1. -1.  1.  1.  1. -1.  1.  1. -1.  1.  1.  1. -1.  1. -1. -1.  1.\n",
      "   1. -1.]\n",
      " [ 1. -1.  1.  1. -1.  1.  1. -1.  1. -1. -1.  1.  1. -1.  1.  1. -1.  1.\n",
      "   1. -1.]\n",
      " [-1.  1.  1. -1.  1.  1. -1.  1.  1.  1. -1.  1. -1.  1. -1. -1.  1.  1.\n",
      "  -1.  1.]]\n"
     ]
    }
   ],
   "source": [
    "print X_ts[0:20,0:20]"
   ]
  },
  {
   "cell_type": "code",
   "execution_count": 11,
   "metadata": {},
   "outputs": [
    {
     "name": "stdout",
     "output_type": "stream",
     "text": [
      "[[ 1.  0.]\n",
      " [ 0.  1.]\n",
      " [ 0.  1.]\n",
      " [ 0.  1.]\n",
      " [ 1.  0.]\n",
      " [ 0.  1.]\n",
      " [ 0.  1.]\n",
      " [ 0.  1.]\n",
      " [ 0.  1.]\n",
      " [ 0.  1.]\n",
      " [ 1.  0.]\n",
      " [ 1.  0.]\n",
      " [ 0.  1.]\n",
      " [ 0.  1.]\n",
      " [ 0.  1.]\n",
      " [ 1.  0.]\n",
      " [ 0.  1.]\n",
      " [ 0.  1.]\n",
      " [ 0.  1.]\n",
      " [ 0.  1.]]\n"
     ]
    }
   ],
   "source": [
    "print y_ts[0:20]"
   ]
  },
  {
   "cell_type": "code",
   "execution_count": null,
   "metadata": {
    "collapsed": true
   },
   "outputs": [],
   "source": []
  }
 ],
 "metadata": {
  "kernelspec": {
   "display_name": "Python 2",
   "language": "python",
   "name": "python2"
  },
  "language_info": {
   "codemirror_mode": {
    "name": "ipython",
    "version": 2
   },
   "file_extension": ".py",
   "mimetype": "text/x-python",
   "name": "python",
   "nbconvert_exporter": "python",
   "pygments_lexer": "ipython2",
   "version": "2.7.13"
  }
 },
 "nbformat": 4,
 "nbformat_minor": 2
}

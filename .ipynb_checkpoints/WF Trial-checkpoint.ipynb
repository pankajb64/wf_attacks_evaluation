{
 "cells": [
  {
   "cell_type": "code",
   "execution_count": 1,
   "metadata": {},
   "outputs": [
    {
     "name": "stderr",
     "output_type": "stream",
     "text": [
      "Using Theano backend.\n"
     ]
    }
   ],
   "source": [
    "import theano\n",
    "from keras.models import Sequential\n",
    "from keras.layers.core import Flatten, Dense, Dropout\n",
    "from keras.layers.convolutional import Conv1D, MaxPooling1D, ZeroPadding1D\n",
    "from keras.optimizers import SGD\n",
    "import numpy as np\n",
    "import os"
   ]
  },
  {
   "cell_type": "code",
   "execution_count": 2,
   "metadata": {
    "collapsed": true
   },
   "outputs": [],
   "source": [
    "feat_0_path='data/mon_exp/feat/0'\n",
    "feat_1_path='data/mon_exp/feat/1'\n",
    "max_feat_count=500\n",
    "\n",
    "feats_0_list = []\n",
    "for fil in os.listdir(feat_0_path):\n",
    "    feats = []\n",
    "    with open(os.path.join(feat_0_path, fil)) as f:\n",
    "        feats = f.readlines()\n",
    "        feats = [float(line) for line in feats]\n",
    "    feats = np.array(feats)\n",
    "    feats1 = np.zeros(max_feat_count)\n",
    "    length = min(len(feats), max_feat_count)\n",
    "    feats1[:length] = feats[:length]\n",
    "    #print len(feats)\n",
    "    feats_0_list.append(feats1)\n",
    "\n",
    "feats_1_list = []\n",
    "for fil in os.listdir(feat_1_path):\n",
    "    feats = []\n",
    "    with open(os.path.join(feat_1_path, fil)) as f:\n",
    "        feats = f.readlines()\n",
    "        feats = [float(line) for line in feats]\n",
    "    feats = np.array(feats)\n",
    "    feats1 = np.zeros(max_feat_count)\n",
    "    length = min(len(feats), max_feat_count)\n",
    "    feats1[:length] = feats[:length]\n",
    "    #print len(feats1)\n",
    "    feats_1_list.append(feats1)\n",
    "  "
   ]
  },
  {
   "cell_type": "code",
   "execution_count": 20,
   "metadata": {},
   "outputs": [
    {
     "name": "stdout",
     "output_type": "stream",
     "text": [
      "(3135, 5000)\n",
      "(3171, 5000)\n",
      "(3000, 5000)\n",
      "(3000, 5000)\n",
      "(100, 5000)\n",
      "(100, 5000)\n"
     ]
    }
   ],
   "source": [
    "num_test=100\n",
    "f0 = np.array(feats_0_list)\n",
    "f1 = np.array(feats_1_list)\n",
    "print f0.shape\n",
    "print f1.shape\n",
    "f0_tr = f0[:-num_test, :]\n",
    "f1_tr = f1[:-num_test, :]\n",
    "print f0_tr.shape\n",
    "print f1_tr.shape\n",
    "f0_ts = f0[-num_test:, :]\n",
    "f1_ts = f1[-num_test:, :]\n",
    "print f0_ts.shape\n",
    "print f1_ts.shape\n"
   ]
  },
  {
   "cell_type": "code",
   "execution_count": 21,
   "metadata": {},
   "outputs": [
    {
     "name": "stdout",
     "output_type": "stream",
     "text": [
      "(3000, 2)\n",
      "(3000, 5002)\n"
     ]
    }
   ],
   "source": [
    "lab_0_tr = np.zeros((split,2))\n",
    "lab_1_tr = np.zeros((split,2))\n",
    "lab_0_ts = np.zeros((100,2))\n",
    "lab_1_ts = np.zeros((100,2))\n",
    "\n",
    "lab_0_tr[:,0] = 1\n",
    "lab_1_tr[:,1] = 1\n",
    "lab_0_ts[:,0] = 1\n",
    "lab_1_ts[:,1] = 1\n",
    "\n",
    "print lab_0_tr.shape\n",
    "x_0_tr = np.append(f0_tr,lab_0_tr, axis=1)\n",
    "x_1_tr = np.append(f1_tr, lab_1_tr, axis=1)\n",
    "print x_0_tr.shape\n",
    "x_0_ts = np.append(f0_ts, lab_0_ts, axis=1)\n",
    "x_1_ts = np.append(f1_ts, lab_1_ts, axis=1)"
   ]
  },
  {
   "cell_type": "code",
   "execution_count": 22,
   "metadata": {},
   "outputs": [
    {
     "name": "stdout",
     "output_type": "stream",
     "text": [
      "(6000, 5002)\n"
     ]
    }
   ],
   "source": [
    "x_tr = np.vstack([x_0_tr, x_1_tr])\n",
    "print x_tr.shape\n",
    "x_ts = np.vstack([x_0_ts, x_1_ts])\n",
    "np.random.shuffle(x_tr)\n",
    "np.random.shuffle(x_ts)"
   ]
  },
  {
   "cell_type": "code",
   "execution_count": 23,
   "metadata": {},
   "outputs": [
    {
     "name": "stdout",
     "output_type": "stream",
     "text": [
      "(6000, 5000)\n",
      "(6000, 2)\n",
      "(200, 5000)\n",
      "(200, 2)\n"
     ]
    }
   ],
   "source": [
    "X_tr = x_tr[:, 0:max_feat_count]\n",
    "y_tr = x_tr[:, max_feat_count:]\n",
    "X_ts = x_ts[:, 0:max_feat_count]\n",
    "y_ts = x_ts[:, max_feat_count:]\n",
    "print X_tr.shape\n",
    "print y_tr.shape\n",
    "print X_ts.shape\n",
    "print y_ts.shape"
   ]
  },
  {
   "cell_type": "code",
   "execution_count": 7,
   "metadata": {
    "collapsed": true
   },
   "outputs": [],
   "source": [
    "def VGG_16(max_len, weights_path=None):\n",
    "    model = Sequential()\n",
    "    model.add(ZeroPadding1D((1,1),input_shape=(1, max_len)))\n",
    "    model.add(Conv1D(256, (3, ), activation='relu'))\n",
    "    model.add(ZeroPadding1D((1,1)))\n",
    "    model.add(Conv1D(256, (3, ), activation='relu'))\n",
    "    #model.add(MaxPooling2D((2,2), strides=(2,2)))\n",
    "    print model.output_shape\n",
    "    model.add(ZeroPadding1D((1,1)))\n",
    "    model.add(Conv1D(128, (3, ), activation='relu'))\n",
    "    model.add(ZeroPadding1D((1,1)))\n",
    "    model.add(Conv1D(128, (3, ), activation='relu'))\n",
    "    #print \"Before max pool %s\" %str(model.output_shape)\n",
    "    #model.add(MaxPooling1D(pool_size=1, strides=1))\n",
    "    #print model.output_shape\n",
    "    model.add(ZeroPadding1D((1,1)))\n",
    "    model.add(Conv1D(64, (3, ), activation='relu'))\n",
    "    model.add(ZeroPadding1D((1,1)))\n",
    "    model.add(Conv1D(64, (3, ), activation='relu'))\n",
    "    model.add(ZeroPadding1D((1,1)))\n",
    "    model.add(Conv1D(64, (3, ), activation='relu'))\n",
    "    #print model.output_shape\n",
    "    #model.add(MaxPooling1D(2, strides=2))\n",
    "    #print model.output_shape\n",
    "    model.add(ZeroPadding1D((1,1)))\n",
    "    model.add(Conv1D(32, (3, ), activation='relu'))\n",
    "    model.add(ZeroPadding1D((1,1)))\n",
    "    model.add(Conv1D(32, (3, ), activation='relu'))\n",
    "    model.add(ZeroPadding1D((1,1)))\n",
    "    model.add(Conv1D(32, (3, ), activation='relu'))\n",
    "    #model.add(MaxPooling1D(2, strides=2))\n",
    "    #print model.output_shape\n",
    "    '''\n",
    "    model.add(ZeroPadding2D((1,1)))\n",
    "    model.add(Convolution2D(512, 3, 3, activation='relu'))\n",
    "    model.add(ZeroPadding2D((1,1)))\n",
    "    model.add(Convolution2D(512, 3, 3, activation='relu'))\n",
    "    model.add(ZeroPadding2D((1,1)))\n",
    "    model.add(Convolution2D(512, 3, 3, activation='relu'))\n",
    "    model.add(MaxPooling2D((2,2), strides=(2,2)))\n",
    "    '''\n",
    "    model.add(Flatten())\n",
    "    model.add(Dense(32, activation='relu'))\n",
    "    model.add(Dropout(0.5))\n",
    "    model.add(Dense(32, activation='relu'))\n",
    "    model.add(Dropout(0.5))\n",
    "    model.add(Dense(2, activation='softmax'))\n",
    "    '''model.add(Dense(16, activation='relu'))\n",
    "    model.add(Dropout(0.5))\n",
    "    model.add(Dense(8, activation='relu'))\n",
    "    model.add(Dropout(0.5))\n",
    "    model.add(Dense(4, activation='relu'))\n",
    "    model.add(Dropout(0.5))\n",
    "    model.add(Dense(2, activation='relu'))\n",
    "    model.add(Dropout(0.5))'''\n",
    "    \n",
    "    \n",
    "    if weights_path:\n",
    "        model.load_weights(weights_path)\n",
    "\n",
    "    return model\n"
   ]
  },
  {
   "cell_type": "code",
   "execution_count": 8,
   "metadata": {},
   "outputs": [
    {
     "name": "stdout",
     "output_type": "stream",
     "text": [
      "0.10.0dev1.dev-d51233517debf3a1231a33058d65e8f969db923d\n",
      "th\n",
      "True\n",
      "<function ifelse at 0x7fe9a4db31b8>\n"
     ]
    }
   ],
   "source": [
    "print theano.__version__\n",
    "import keras.backend as K\n",
    "K.set_image_dim_ordering('th')\n",
    "print K.image_dim_ordering()\n",
    "input_shape=(1,max_feat_count)\n",
    "print all(input_shape[1:])\n",
    "from theano import ifelse\n",
    "print theano.ifelse.ifelse"
   ]
  },
  {
   "cell_type": "code",
   "execution_count": 24,
   "metadata": {
    "collapsed": true
   },
   "outputs": [],
   "source": [
    "model = Sequential()\n",
    "#model.add(Dense(2, activation='relu', input_dim=max_feat_count))\n",
    "#model.add(Dense(2, activation='softmax' ))\n",
    "model.add(Dense(2, activation='softmax',input_dim=max_feat_count ))"
   ]
  },
  {
   "cell_type": "code",
   "execution_count": 25,
   "metadata": {
    "collapsed": true
   },
   "outputs": [],
   "source": [
    "#model = VGG_16(max_feat_count)\n",
    "model.compile(optimizer='rmsprop', loss='binary_crossentropy', metrics=['accuracy']  )\n"
   ]
  },
  {
   "cell_type": "code",
   "execution_count": 20,
   "metadata": {
    "collapsed": true
   },
   "outputs": [],
   "source": [
    "X_tr = X_tr.reshape(X_tr.shape[0], 1, X_tr.shape[1])\n",
    "X_ts = X_ts.reshape(X_ts.shape[0], 1, X_ts.shape[1])"
   ]
  },
  {
   "cell_type": "code",
   "execution_count": 26,
   "metadata": {},
   "outputs": [
    {
     "name": "stdout",
     "output_type": "stream",
     "text": [
      "(6000, 5000)\n",
      "(6000, 2)\n",
      "_________________________________________________________________\n",
      "Layer (type)                 Output Shape              Param #   \n",
      "=================================================================\n",
      "dense_2 (Dense)              (None, 2)                 10002     \n",
      "=================================================================\n",
      "Total params: 10,002\n",
      "Trainable params: 10,002\n",
      "Non-trainable params: 0\n",
      "_________________________________________________________________\n",
      "None\n"
     ]
    }
   ],
   "source": [
    "print X_tr.shape\n",
    "print y_tr.shape\n",
    "print model.summary()"
   ]
  },
  {
   "cell_type": "code",
   "execution_count": 27,
   "metadata": {},
   "outputs": [
    {
     "name": "stdout",
     "output_type": "stream",
     "text": [
      "Epoch 1/10\n",
      "6000/6000 [==============================] - 0s - loss: 0.1036 - acc: 0.9808     \n",
      "Epoch 2/10\n",
      "6000/6000 [==============================] - 0s - loss: 0.0282 - acc: 0.9927     \n",
      "Epoch 3/10\n",
      "6000/6000 [==============================] - 0s - loss: 0.0135 - acc: 0.9970     \n",
      "Epoch 4/10\n",
      "6000/6000 [==============================] - 0s - loss: 0.0080 - acc: 0.9992     \n",
      "Epoch 5/10\n",
      "6000/6000 [==============================] - 0s - loss: 0.0050 - acc: 0.9997     \n",
      "Epoch 6/10\n",
      "6000/6000 [==============================] - 0s - loss: 0.0031 - acc: 0.9998     \n",
      "Epoch 7/10\n",
      "6000/6000 [==============================] - 0s - loss: 0.0020 - acc: 1.0000     \n",
      "Epoch 8/10\n",
      "6000/6000 [==============================] - 0s - loss: 0.0015 - acc: 1.0000     \n",
      "Epoch 9/10\n",
      "6000/6000 [==============================] - 0s - loss: 0.0011 - acc: 1.0000        \n",
      "Epoch 10/10\n",
      "6000/6000 [==============================] - 0s - loss: 8.8719e-04 - acc: 1.0000     \n"
     ]
    },
    {
     "data": {
      "text/plain": [
       "<keras.callbacks.History at 0x7fe99ff8b810>"
      ]
     },
     "execution_count": 27,
     "metadata": {},
     "output_type": "execute_result"
    }
   ],
   "source": [
    "model.fit(X_tr, y_tr, batch_size=32, epochs=10)"
   ]
  },
  {
   "cell_type": "code",
   "execution_count": 28,
   "metadata": {},
   "outputs": [
    {
     "name": "stdout",
     "output_type": "stream",
     "text": [
      "200/200 [==============================] - 0s\n"
     ]
    },
    {
     "data": {
      "text/plain": [
       "[0.00062319046592510235, 1.0]"
      ]
     },
     "execution_count": 28,
     "metadata": {},
     "output_type": "execute_result"
    }
   ],
   "source": [
    "model.evaluate(X_ts, y_ts, batch_size=200)"
   ]
  },
  {
   "cell_type": "code",
   "execution_count": 29,
   "metadata": {},
   "outputs": [
    {
     "name": "stdout",
     "output_type": "stream",
     "text": [
      "[[  7.45740054e-06   9.99992543e-01]\n",
      " [  4.55995031e-05   9.99954400e-01]\n",
      " [  5.90863701e-06   9.99994091e-01]\n",
      " [  9.99999999e-01   8.92616476e-10]\n",
      " [  1.55965815e-05   9.99984403e-01]\n",
      " [  9.99984653e-01   1.53472886e-05]\n",
      " [  7.27496374e-06   9.99992725e-01]\n",
      " [  9.99979655e-01   2.03445714e-05]\n",
      " [  1.00000000e+00   6.55293623e-25]\n",
      " [  6.86976341e-05   9.99931302e-01]\n",
      " [  9.99983708e-01   1.62915546e-05]\n",
      " [  9.98348095e-01   1.65190510e-03]\n",
      " [  1.00000000e+00   2.55637785e-16]\n",
      " [  1.00000000e+00   2.87453984e-16]\n",
      " [  2.00450019e-06   9.99997995e-01]\n",
      " [  9.99979169e-01   2.08309159e-05]\n",
      " [  9.03432971e-05   9.99909657e-01]\n",
      " [  1.00000000e+00   1.94114799e-10]\n",
      " [  1.13240710e-04   9.99886759e-01]\n",
      " [  2.55057158e-05   9.99974494e-01]]\n"
     ]
    }
   ],
   "source": [
    "print model.predict(X_ts[0:20])"
   ]
  },
  {
   "cell_type": "code",
   "execution_count": 24,
   "metadata": {},
   "outputs": [
    {
     "name": "stdout",
     "output_type": "stream",
     "text": [
      "[[  9.99999944e-01   5.58455853e-08]\n",
      " [  1.00000000e+00   2.99722810e-10]\n",
      " [  5.06029170e-01   4.93970830e-01]\n",
      " [  5.06029170e-01   4.93970830e-01]\n",
      " [  9.99999868e-01   1.32425045e-07]\n",
      " [  9.99999980e-01   1.99602362e-08]\n",
      " [  5.06029170e-01   4.93970830e-01]\n",
      " [  5.06029170e-01   4.93970830e-01]\n",
      " [  5.06029170e-01   4.93970830e-01]\n",
      " [  5.06029170e-01   4.93970830e-01]\n",
      " [  5.07436490e-01   4.92563510e-01]\n",
      " [  5.06027682e-01   4.93972318e-01]\n",
      " [  5.06029170e-01   4.93970830e-01]\n",
      " [  5.06029170e-01   4.93970830e-01]\n",
      " [  9.99999999e-01   1.17829729e-09]\n",
      " [  1.00000000e+00   3.32733742e-10]\n",
      " [  5.06029170e-01   4.93970830e-01]\n",
      " [  5.06029170e-01   4.93970830e-01]\n",
      " [  5.06028193e-01   4.93971807e-01]\n",
      " [  9.99999980e-01   1.99602362e-08]]\n"
     ]
    }
   ],
   "source": [
    "print model.predict(X_ts[0:20])"
   ]
  },
  {
   "cell_type": "code",
   "execution_count": 10,
   "metadata": {},
   "outputs": [
    {
     "name": "stdout",
     "output_type": "stream",
     "text": [
      "[[ 1.  1.  1.  1.  1.  1.  1.  1.  1.  1.  1.  1.  1.  1.  1.  1.  1.  1.\n",
      "   1.  1.]\n",
      " [ 1. -1. -1.  1.  1. -1. -1.  1.  1.  1. -1.  1.  1. -1.  1.  1.  1.  1.\n",
      "   1.  1.]\n",
      " [ 1. -1. -1.  1.  1.  1. -1.  1.  1. -1.  1.  1.  1.  1.  1.  1.  1.  1.\n",
      "   1.  1.]\n",
      " [ 1. -1. -1.  1.  1. -1.  1. -1.  1.  1. -1.  1. -1. -1.  1.  1.  1.  1.\n",
      "   1.  1.]\n",
      " [ 1.  1.  1.  1.  1.  1.  1.  1.  1.  1.  1.  1.  1.  1.  1.  1.  1.  1.\n",
      "   1.  1.]\n",
      " [ 1. -1. -1.  1.  1. -1. -1.  1.  1.  1.  1.  1.  1.  1.  1.  1.  1.  1.\n",
      "   1.  1.]\n",
      " [-1. -1.  1.  1. -1.  1.  1. -1.  1. -1.  1.  1.  1. -1.  1.  1. -1.  1.\n",
      "   1.  1.]\n",
      " [ 1. -1.  1.  1.  1.  1.  1.  1.  1.  1. -1.  1.  1.  1. -1.  1.  1.  1.\n",
      "   1.  1.]\n",
      " [ 1. -1. -1.  1.  1.  1.  1.  1.  1.  1.  1. -1.  1.  1.  1.  1.  1.  1.\n",
      "  -1.  1.]\n",
      " [ 1.  1. -1. -1.  1.  1. -1.  1.  1.  1.  1. -1. -1. -1.  1.  1. -1.  1.\n",
      "   1. -1.]\n",
      " [ 1.  1.  1.  1.  1.  1.  1.  1.  1.  1.  1.  1.  1.  1.  1.  1.  1.  1.\n",
      "   1.  1.]\n",
      " [ 1.  1.  1.  1.  1.  1.  1.  1.  1.  1.  1.  1.  1.  1.  1.  1.  1.  1.\n",
      "   1.  1.]\n",
      " [ 1. -1. -1.  1.  1.  1. -1.  1.  1. -1.  1.  1.  1.  1.  1.  1.  1. -1.\n",
      "   1.  1.]\n",
      " [ 1. -1. -1.  1.  1. -1. -1.  1.  1. -1.  1. -1.  1.  1. -1.  1. -1. -1.\n",
      "   1.  1.]\n",
      " [ 1. -1. -1.  1.  1.  1. -1.  1.  1. -1.  1.  1.  1.  1.  1.  1.  1.  1.\n",
      "   1.  1.]\n",
      " [ 1.  1.  1.  1.  1.  1.  1.  1.  1.  1.  1.  1.  1.  1.  1.  1.  1.  1.\n",
      "   1.  1.]\n",
      " [ 1. -1. -1.  1.  1. -1.  1. -1.  1.  1. -1.  1. -1. -1.  1.  1.  1.  1.\n",
      "   1.  1.]\n",
      " [ 1. -1. -1.  1.  1. -1.  1. -1.  1.  1. -1.  1. -1. -1.  1.  1.  1.  1.\n",
      "   1.  1.]\n",
      " [ 1. -1. -1.  1.  1.  1. -1.  1. -1.  1.  1. -1.  1.  1.  1.  1.  1.  1.\n",
      "   1.  1.]\n",
      " [ 1. -1. -1.  1.  1. -1.  1. -1.  1.  1. -1.  1. -1. -1.  1.  1.  1.  1.\n",
      "   1.  1.]]\n"
     ]
    }
   ],
   "source": [
    "print X_ts[0:20,0:20]"
   ]
  },
  {
   "cell_type": "code",
   "execution_count": 11,
   "metadata": {},
   "outputs": [
    {
     "name": "stdout",
     "output_type": "stream",
     "text": [
      "[[ 1.  0.]\n",
      " [ 0.  1.]\n",
      " [ 0.  1.]\n",
      " [ 0.  1.]\n",
      " [ 1.  0.]\n",
      " [ 0.  1.]\n",
      " [ 0.  1.]\n",
      " [ 0.  1.]\n",
      " [ 0.  1.]\n",
      " [ 0.  1.]\n",
      " [ 1.  0.]\n",
      " [ 1.  0.]\n",
      " [ 0.  1.]\n",
      " [ 0.  1.]\n",
      " [ 0.  1.]\n",
      " [ 1.  0.]\n",
      " [ 0.  1.]\n",
      " [ 0.  1.]\n",
      " [ 0.  1.]\n",
      " [ 0.  1.]]\n"
     ]
    }
   ],
   "source": [
    "print y_ts[0:20]"
   ]
  },
  {
   "cell_type": "code",
   "execution_count": null,
   "metadata": {
    "collapsed": true
   },
   "outputs": [],
   "source": []
  }
 ],
 "metadata": {
  "kernelspec": {
   "display_name": "Python 2",
   "language": "python",
   "name": "python2"
  },
  "language_info": {
   "codemirror_mode": {
    "name": "ipython",
    "version": 2
   },
   "file_extension": ".py",
   "mimetype": "text/x-python",
   "name": "python",
   "nbconvert_exporter": "python",
   "pygments_lexer": "ipython2",
   "version": "2.7.13"
  }
 },
 "nbformat": 4,
 "nbformat_minor": 2
}
